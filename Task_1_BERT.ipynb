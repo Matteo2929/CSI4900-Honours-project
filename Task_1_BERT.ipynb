{
  "nbformat": 4,
  "nbformat_minor": 0,
  "metadata": {
    "colab": {
      "provenance": [],
      "gpuType": "T4"
    },
    "kernelspec": {
      "name": "python3",
      "display_name": "Python 3"
    },
    "language_info": {
      "name": "python"
    },
    "accelerator": "GPU"
  },
  "cells": [
    {
      "cell_type": "code",
      "source": [
        "import json\n",
        "import torch\n",
        "import torch.nn as nn\n",
        "from torch.utils.data import Dataset, DataLoader\n",
        "from transformers import BertTokenizer, BertModel, AdamW, AutoTokenizer, AutoModel\n",
        "from sklearn.preprocessing import MultiLabelBinarizer\n",
        "from sklearn.metrics import f1_score\n",
        "import numpy as np\n",
        "import os"
      ],
      "metadata": {
        "id": "88-LcOVk58Gc"
      },
      "execution_count": null,
      "outputs": []
    },
    {
      "cell_type": "code",
      "source": [
        "# Mount Google Drive (Colab specific)\n",
        "from google.colab import drive\n",
        "drive.mount('/content/drive')\n",
        "data_dir = \"/content/drive/My Drive/SEMEVAL/data/\""
      ],
      "metadata": {
        "colab": {
          "base_uri": "https://localhost:8080/"
        },
        "id": "rNLXJZVR6BEO",
        "outputId": "020d875a-007b-47a0-b695-834b27ca78cd"
      },
      "execution_count": null,
      "outputs": [
        {
          "output_type": "stream",
          "name": "stdout",
          "text": [
            "Drive already mounted at /content/drive; to attempt to forcibly remount, call drive.mount(\"/content/drive\", force_remount=True).\n"
          ]
        }
      ]
    },
    {
      "cell_type": "code",
      "source": [
        "# Load data\n",
        "def load_data(file_path):\n",
        "    with open(file_path, \"r\", encoding=\"utf-8\") as f:\n",
        "        return json.load(f)\n",
        "\n",
        "train_data = load_data(os.path.join(data_dir, \"training_set_task1.txt\"))\n",
        "dev_data = load_data(os.path.join(data_dir, \"dev_set_task1.txt\"))\n",
        "\n",
        "# Preprocess data\n",
        "train_texts = [item[\"text\"] for item in train_data]\n",
        "dev_texts = [item[\"text\"] for item in dev_data]\n",
        "train_labels = [item[\"labels\"] for item in train_data]\n",
        "dev_labels = [item[\"labels\"] for item in dev_data]\n",
        "\n",
        "# Encode labels\n",
        "all_labels = sorted(set(label for labels in train_labels + dev_labels for label in labels))\n",
        "mlb = MultiLabelBinarizer(classes=all_labels)\n",
        "train_labels_enc = mlb.fit_transform(train_labels)\n",
        "dev_labels_enc = mlb.transform(dev_labels)\n",
        "\n",
        "# Initialize tokenizer and model\n",
        "tokenizer = BertTokenizer.from_pretrained(\"bert-base-cased\")\n",
        "\n",
        "def tokenize_texts(texts, max_length=128):\n",
        "    return tokenizer(texts, padding=True, truncation=True, max_length=max_length, return_tensors=\"pt\")\n",
        "\n",
        "train_encodings = tokenize_texts(train_texts)\n",
        "dev_encodings = tokenize_texts(dev_texts)"
      ],
      "metadata": {
        "id": "LXXiAi1j6C3R"
      },
      "execution_count": null,
      "outputs": []
    },
    {
      "cell_type": "code",
      "source": [
        "# Dataset class\n",
        "class PropagandaDataset(Dataset):\n",
        "    def __init__(self, encodings, labels):\n",
        "        self.encodings = encodings\n",
        "        self.labels = torch.tensor(labels, dtype=torch.float)\n",
        "\n",
        "    def __len__(self):\n",
        "        return len(self.labels)\n",
        "\n",
        "    def __getitem__(self, idx):\n",
        "        return {\n",
        "            'input_ids': self.encodings['input_ids'][idx],\n",
        "            'attention_mask': self.encodings['attention_mask'][idx],\n",
        "            'labels': self.labels[idx]\n",
        "        }\n",
        "\n",
        "train_dataset = PropagandaDataset(train_encodings, train_labels_enc)\n",
        "dev_dataset = PropagandaDataset(dev_encodings, dev_labels_enc)\n",
        "\n",
        "# Model architecture (as per paper)\n",
        "class BertForMultilabelClassification(nn.Module):\n",
        "    def __init__(self, num_labels):\n",
        "        super().__init__()\n",
        "        self.bert = BertModel.from_pretrained(\"bert-base-cased\")\n",
        "        self.dropout = nn.Dropout(0.1)\n",
        "        self.classifier = nn.Sequential(\n",
        "            nn.Linear(self.bert.config.hidden_size, 256),\n",
        "            nn.Tanh(),\n",
        "            nn.Linear(256, num_labels)\n",
        "        )\n",
        "\n",
        "    def forward(self, input_ids, attention_mask):\n",
        "        outputs = self.bert(input_ids=input_ids, attention_mask=attention_mask)\n",
        "        pooled_output = self.dropout(outputs.pooler_output)\n",
        "        return self.classifier(pooled_output)"
      ],
      "metadata": {
        "id": "88_dPNTk6Lm7"
      },
      "execution_count": null,
      "outputs": []
    },
    {
      "cell_type": "code",
      "source": [
        "# Initialize model\n",
        "num_labels = len(all_labels)\n",
        "device = torch.device(\"cuda\" if torch.cuda.is_available() else \"cpu\")\n",
        "model = BertForMultilabelClassification(num_labels).to(device)\n",
        "\n",
        "# Class weights for imbalance\n",
        "pos_weights = torch.tensor(\n",
        "    [(len(train_labels) - np.sum(train_labels_enc[:, i])) / np.sum(train_labels_enc[:, i])\n",
        "     for i in range(num_labels)],\n",
        "    dtype=torch.float\n",
        ").to(device)\n",
        "criterion = nn.BCEWithLogitsLoss(pos_weight=pos_weights)\n",
        "\n",
        "# Optimizer (paper settings)\n",
        "optimizer = AdamW(model.parameters(), lr=1e-5, weight_decay=0.01)\n",
        "\n",
        "# Data loaders\n",
        "train_loader = DataLoader(train_dataset, batch_size=8, shuffle=True)\n",
        "dev_loader = DataLoader(dev_dataset, batch_size=8, shuffle=False)"
      ],
      "metadata": {
        "colab": {
          "base_uri": "https://localhost:8080/"
        },
        "id": "w2QPJKHb6OeC",
        "outputId": "9d66d07d-a45e-40d1-8b22-be5868f4ed05"
      },
      "execution_count": null,
      "outputs": [
        {
          "output_type": "stream",
          "name": "stderr",
          "text": [
            "/usr/local/lib/python3.11/dist-packages/transformers/optimization.py:591: FutureWarning: This implementation of AdamW is deprecated and will be removed in a future version. Use the PyTorch implementation torch.optim.AdamW instead, or set `no_deprecation_warning=True` to disable this warning\n",
            "  warnings.warn(\n"
          ]
        }
      ]
    },
    {
      "cell_type": "code",
      "source": [
        "def train_epoch(model, train_loader, criterion, optimizer, device):\n",
        "    \"\"\"Train the model for one epoch\"\"\"\n",
        "    model.train()\n",
        "    total_loss = 0\n",
        "\n",
        "    for batch in train_loader:\n",
        "        optimizer.zero_grad()\n",
        "        input_ids = batch['input_ids'].to(device)\n",
        "        attention_mask = batch['attention_mask'].to(device)\n",
        "        labels = batch['labels'].to(device)\n",
        "\n",
        "        outputs = model(input_ids, attention_mask)\n",
        "        loss = criterion(outputs, labels)\n",
        "        loss.backward()\n",
        "        optimizer.step()\n",
        "        total_loss += loss.item()\n",
        "\n",
        "    return total_loss / len(train_loader)\n",
        "\n",
        "\n",
        "\n"
      ],
      "metadata": {
        "id": "zUjaJ3lH7HdM"
      },
      "execution_count": null,
      "outputs": []
    },
    {
      "cell_type": "code",
      "source": [
        "def evaluate_model(model, dev_loader, criterion, device):\n",
        "    \"\"\"Evaluate the model on the validation set\"\"\"\n",
        "    model.eval()\n",
        "    val_loss = 0\n",
        "    all_preds = []\n",
        "    all_labels = []\n",
        "\n",
        "    with torch.no_grad():\n",
        "        for batch in dev_loader:\n",
        "            input_ids = batch['input_ids'].to(device)\n",
        "            attention_mask = batch['attention_mask'].to(device)\n",
        "            labels = batch['labels'].to(device)\n",
        "\n",
        "            outputs = model(input_ids, attention_mask)\n",
        "            loss = criterion(outputs, labels)\n",
        "            val_loss += loss.item()\n",
        "\n",
        "            all_preds.append(torch.sigmoid(outputs).cpu())\n",
        "            all_labels.append(labels.cpu())\n",
        "\n",
        "    # Calculate metrics\n",
        "    avg_val_loss = val_loss / len(dev_loader)\n",
        "\n",
        "    all_preds = torch.cat(all_preds).numpy()\n",
        "    all_labels = torch.cat(all_labels).numpy()\n",
        "    preds_binary = (all_preds > 0.5).astype(int)\n",
        "\n",
        "    f1_micro = f1_score(all_labels, preds_binary, average='micro')\n",
        "\n",
        "    return avg_val_loss, f1_micro"
      ],
      "metadata": {
        "id": "hbNvf3CI7Lj0"
      },
      "execution_count": null,
      "outputs": []
    },
    {
      "cell_type": "code",
      "source": [
        "def train_model(model, train_loader, dev_loader, criterion, optimizer, device, epochs=20, patience=10):\n",
        "    \"\"\"Main training loop with early stopping\"\"\"\n",
        "    best_f1 = 0\n",
        "    wait = 0\n",
        "\n",
        "    for epoch in range(epochs):\n",
        "        # Training phase\n",
        "        train_loss = train_epoch(model, train_loader, criterion, optimizer, device)\n",
        "\n",
        "        # Evaluation phase\n",
        "        val_loss, val_f1 = evaluate_model(model, dev_loader, criterion, device)\n",
        "\n",
        "        print(f\"Epoch {epoch+1}\")\n",
        "        print(f\"Train Loss: {train_loss:.4f} | Val Loss: {val_loss:.4f}\")\n",
        "        print(f\"Val F1 Micro: {val_f1:.4f}\")\n",
        "\n",
        "        # Early stopping logic\n",
        "        if val_f1 > best_f1:\n",
        "            best_f1 = val_f1\n",
        "            wait = 0\n",
        "            torch.save(model.state_dict(), \"best_model.pth\")\n",
        "            print(\"New best model saved!\")\n",
        "        else:\n",
        "            wait += 1\n",
        "            if wait >= patience:\n",
        "                print(f\"Early stopping at epoch {epoch+1}\")\n",
        "                break\n",
        "\n",
        "# Start training (modified call)\n",
        "train_model(\n",
        "    model=model,\n",
        "    train_loader=train_loader,\n",
        "    dev_loader=dev_loader,\n",
        "    criterion=criterion,\n",
        "    optimizer=optimizer,\n",
        "    device=device\n",
        ")\n",
        "\n",
        "print(\"Training complete!\")"
      ],
      "metadata": {
        "id": "Ib-C7eit7NOH",
        "colab": {
          "base_uri": "https://localhost:8080/"
        },
        "outputId": "2dc56575-ec5c-477c-98a3-2566adaa8d33"
      },
      "execution_count": null,
      "outputs": [
        {
          "output_type": "stream",
          "name": "stdout",
          "text": [
            "Epoch 1\n",
            "Train Loss: 1.2884 | Val Loss: 1.7855\n",
            "Val F1 Micro: 0.2509\n",
            "New best model saved!\n",
            "Epoch 2\n",
            "Train Loss: 1.2751 | Val Loss: 1.7292\n",
            "Val F1 Micro: 0.2614\n",
            "New best model saved!\n",
            "Epoch 3\n",
            "Train Loss: 1.2179 | Val Loss: 1.7241\n",
            "Val F1 Micro: 0.2372\n",
            "Epoch 4\n",
            "Train Loss: 1.1703 | Val Loss: 1.6091\n",
            "Val F1 Micro: 0.2148\n",
            "Epoch 5\n",
            "Train Loss: 1.1504 | Val Loss: 1.9270\n",
            "Val F1 Micro: 0.1377\n",
            "Epoch 6\n",
            "Train Loss: 1.1280 | Val Loss: 1.4450\n",
            "Val F1 Micro: 0.2016\n",
            "Epoch 7\n",
            "Train Loss: 1.0440 | Val Loss: 1.4803\n",
            "Val F1 Micro: 0.2273\n",
            "Early stopping at epoch 7\n",
            "Training complete!\n"
          ]
        }
      ]
    }
  ]
}